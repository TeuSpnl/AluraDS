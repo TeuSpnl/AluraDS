{
 "cells": [
  {
   "cell_type": "code",
   "execution_count": 1,
   "metadata": {},
   "outputs": [
    {
     "name": "stdout",
     "output_type": "stream",
     "text": [
      "                                  Rua              Bairro     Cidade  \\\n",
      "0               Avenida Itacira, 255    Planalto Paulista  São Paulo   \n",
      "1      Rua Aurelia Perez Alvarez, 42   Jardim dos Estados  São Paulo   \n",
      "2                     Rua Alba Valdez     Jardim Reimberg  São Paulo   \n",
      "3                                 NaN      Jardim Morumbi  São Paulo   \n",
      "4            Rua Tobias Barreto, 195                Mooca  São Paulo   \n",
      "...                               ...                 ...        ...   \n",
      "10003                      Rua Tapuçu          Vila Sofia  São Paulo   \n",
      "10004                   Rua Guararema     Bosque da Saúde  São Paulo   \n",
      "10005               Rua Estero Belaco       Vila da Saúde  São Paulo   \n",
      "10006         Rua Manuel Onha, , 514        Vila Oratório  São Paulo   \n",
      "10007      Rua Barão de Tramandaí, 0          Vila Alpina  São Paulo   \n",
      "\n",
      "       Metragem  Quartos  Banheiros  Vagas  \\\n",
      "0          1000        4          8      6   \n",
      "1           496        4          4      4   \n",
      "2           125        4          3      2   \n",
      "3           310        3          2      4   \n",
      "4           100        3          2      2   \n",
      "...         ...      ...        ...    ...   \n",
      "10003        95        2          2      2   \n",
      "10004       605        8          7      5   \n",
      "10005       205        3          3      6   \n",
      "10006       185        3          2      2   \n",
      "10007       122        3          2      2   \n",
      "\n",
      "                                      Valor  \n",
      "0                              R$ 7.000.000  \n",
      "1                              R$ 3.700.000  \n",
      "2                                R$ 380.000  \n",
      "3                                R$ 685.000  \n",
      "4                                R$ 540.000  \n",
      "...                                     ...  \n",
      "10003                            R$ 665.000  \n",
      "10004                          R$ 2.300.000  \n",
      "10005                          R$ 1.050.000  \n",
      "10006  R$ 2.200\\n                      /Mês  \n",
      "10007                            R$ 270.000  \n",
      "\n",
      "[10008 rows x 8 columns]\n"
     ]
    }
   ],
   "source": [
    "import pandas as pd\n",
    "\n",
    "url = \"https://gist.githubusercontent.com/tgcsantos/3bdb29eba6ce391e90df2b72205ba891/raw/22fa920e80c9fa209a9fccc8b52d74cc95d1599b/dados_imoveis.csv\"\n",
    "\n",
    "dados = pd.read_csv(url)\n",
    "\n",
    "print(dados)"
   ]
  },
  {
   "cell_type": "code",
   "execution_count": null,
   "metadata": {},
   "outputs": [],
   "source": []
  }
 ],
 "metadata": {
  "interpreter": {
   "hash": "a92377d005164027b286afe17bc713101cd9f1d85ca53ccbd7b8d70cdc72d25b"
  },
  "kernelspec": {
   "display_name": "Python 3.10.0 64-bit (system)",
   "language": "python",
   "name": "python3"
  },
  "language_info": {
   "codemirror_mode": {
    "name": "ipython",
    "version": 3
   },
   "file_extension": ".py",
   "mimetype": "text/x-python",
   "name": "python",
   "nbconvert_exporter": "python",
   "pygments_lexer": "ipython3",
   "version": "3.10.0"
  },
  "orig_nbformat": 4
 },
 "nbformat": 4,
 "nbformat_minor": 2
}
